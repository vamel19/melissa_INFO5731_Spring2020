{
  "nbformat": 4,
  "nbformat_minor": 0,
  "metadata": {
    "colab": {
      "name": "In_class_exercise_02.ipynb",
      "provenance": [],
      "collapsed_sections": [],
      "include_colab_link": true
    },
    "kernelspec": {
      "display_name": "Python 3",
      "language": "python",
      "name": "python3"
    },
    "language_info": {
      "codemirror_mode": {
        "name": "ipython",
        "version": 3
      },
      "file_extension": ".py",
      "mimetype": "text/x-python",
      "name": "python",
      "nbconvert_exporter": "python",
      "pygments_lexer": "ipython3",
      "version": "3.7.4"
    }
  },
  "cells": [
    {
      "cell_type": "markdown",
      "metadata": {
        "id": "view-in-github",
        "colab_type": "text"
      },
      "source": [
        "<a href=\"https://colab.research.google.com/github/vamel19/melissa_INFO5731_Spring2020/blob/master/In_class_exercise_02.ipynb\" target=\"_parent\"><img src=\"https://colab.research.google.com/assets/colab-badge.svg\" alt=\"Open In Colab\"/></a>"
      ]
    },
    {
      "cell_type": "markdown",
      "metadata": {
        "colab_type": "text",
        "id": "oo5bsEh2eeWi"
      },
      "source": [
        "# **The second In-class-exercise (9/9/2020, 20 points in total)**\n"
      ]
    },
    {
      "cell_type": "markdown",
      "metadata": {
        "colab_type": "text",
        "id": "2sPQ58dIeqgp"
      },
      "source": [
        "(1) Write a Python program to find the duplicate elements in a given array of integers. Return -1 If there are no such elements. (4 points)"
      ]
    },
    {
      "cell_type": "code",
      "metadata": {
        "colab_type": "code",
        "id": "mnrvKMFTeoJR",
        "colab": {
          "base_uri": "https://localhost:8080/",
          "height": 85
        },
        "outputId": "1f89c0e7-69e2-4cf2-befa-f133ebff86c7"
      },
      "source": [
        "#Initialize array     \n",
        "arr = [2, 4, 3, 6, 3, 9, 9, 7, 4];     \n",
        "     \n",
        "print(\"Duplicate elements in given array: \");    \n",
        "#Searches for duplicate element    \n",
        "for i in range(0, len(arr)):    \n",
        "    for j in range(i+1, len(arr)):    \n",
        "        if(arr[i] == arr[j]):    \n",
        "            print(arr[j]);   "
      ],
      "execution_count": null,
      "outputs": [
        {
          "output_type": "stream",
          "text": [
            "Duplicate elements in given array: \n",
            "4\n",
            "3\n",
            "9\n"
          ],
          "name": "stdout"
        }
      ]
    },
    {
      "cell_type": "markdown",
      "metadata": {
        "colab_type": "text",
        "id": "YYrH6n6IhZoQ"
      },
      "source": [
        "(2) Write a Python program to select all the Sundays of a specified year. (4 points)\n",
        "\n"
      ]
    },
    {
      "cell_type": "code",
      "metadata": {
        "colab_type": "code",
        "id": "OSfPLd23eLpX",
        "colab": {
          "base_uri": "https://localhost:8080/",
          "height": 901
        },
        "outputId": "712aab94-8683-44ff-807d-e36dcbc3f84a"
      },
      "source": [
        "from datetime import date, timedelta\n",
        "\n",
        "def all_sundays(year):\n",
        "# January 1st of the given year\n",
        "       dt = date(year, 1, 1)\n",
        "# First Sunday of the given year       \n",
        "       dt += timedelta(days = 6 - dt.weekday())  \n",
        "       while dt.year == year:\n",
        "          yield dt\n",
        "          dt += timedelta(days = 7)\n",
        "          \n",
        "for s in all_sundays(2018):\n",
        "   print(s)\n",
        "\n"
      ],
      "execution_count": null,
      "outputs": [
        {
          "output_type": "stream",
          "text": [
            "2018-01-07\n",
            "2018-01-14\n",
            "2018-01-21\n",
            "2018-01-28\n",
            "2018-02-04\n",
            "2018-02-11\n",
            "2018-02-18\n",
            "2018-02-25\n",
            "2018-03-04\n",
            "2018-03-11\n",
            "2018-03-18\n",
            "2018-03-25\n",
            "2018-04-01\n",
            "2018-04-08\n",
            "2018-04-15\n",
            "2018-04-22\n",
            "2018-04-29\n",
            "2018-05-06\n",
            "2018-05-13\n",
            "2018-05-20\n",
            "2018-05-27\n",
            "2018-06-03\n",
            "2018-06-10\n",
            "2018-06-17\n",
            "2018-06-24\n",
            "2018-07-01\n",
            "2018-07-08\n",
            "2018-07-15\n",
            "2018-07-22\n",
            "2018-07-29\n",
            "2018-08-05\n",
            "2018-08-12\n",
            "2018-08-19\n",
            "2018-08-26\n",
            "2018-09-02\n",
            "2018-09-09\n",
            "2018-09-16\n",
            "2018-09-23\n",
            "2018-09-30\n",
            "2018-10-07\n",
            "2018-10-14\n",
            "2018-10-21\n",
            "2018-10-28\n",
            "2018-11-04\n",
            "2018-11-11\n",
            "2018-11-18\n",
            "2018-11-25\n",
            "2018-12-02\n",
            "2018-12-09\n",
            "2018-12-16\n",
            "2018-12-23\n",
            "2018-12-30\n"
          ],
          "name": "stdout"
        }
      ]
    },
    {
      "cell_type": "markdown",
      "metadata": {
        "colab_type": "text",
        "id": "UIpziZ6Sjie-"
      },
      "source": [
        "(3) Python files reading and writing. Download the “[exercise_02_data _collection.zip](https://github.com/unt-iialab/INFO5731_FALL2020/blob/master/In_class_exercise/exercise_02_data_collection.zip)” to your local and un-zip it.\n",
        "\n",
        "*   Write a program to read all the txt files and save the sentences in all the files into one csv file with two columns, the first column is sentence id (txt file name+sentence line number), the second column is the sentence text content. (4 points)\n",
        "*   Remove all the punctuations from the sentences, save the processed sentences into a new column in the same csv file. (4 points)\n",
        "*   Ask the user to enter a word, return all the sentences that include this word, three kinds of information should be returned: sentence id, sentence text content, the count that user input word appear in the sentence. (4 points)\n",
        "\n"
      ]
    },
    {
      "cell_type": "code",
      "metadata": {
        "id": "oSIp-xc6PPo6",
        "colab_type": "code",
        "colab": {}
      },
      "source": [
        "path = “copy_path_here”\n",
        "df_bonus = pd.read_csv(path)"
      ],
      "execution_count": null,
      "outputs": []
    },
    {
      "cell_type": "code",
      "metadata": {
        "id": "9YNyLdyuRosl",
        "colab_type": "code",
        "colab": {}
      },
      "source": [
        "i = 1\n",
        "    while i <= 100: # Loop to open and read all 100 files\n",
        "        # Replace with path of your file location\n",
        "        input_file_name = \"Assign-two-data-collection//\"+\"ARTHROTEC.\"+str(i)+\".txt\" # File name changes with index value\n",
        "        output_line_name = \"ARTHROTEC.\"+str(i)\n",
        "        input_file = open(input_file_name).read() # Open and read each input file\n",
        "        sentences = input_file.split('\\n') # Split the file into separate lines"
      ],
      "execution_count": null,
      "outputs": []
    },
    {
      "cell_type": "markdown",
      "metadata": {
        "colab_type": "text",
        "id": "-12cqmJEpZOh"
      },
      "source": [
        "(4) Install packages nltk, numpy, scipy, pandas, and sklearn on Google Colab. Write a program to test whether they are installed successfully. (3 points for extra)"
      ]
    },
    {
      "cell_type": "code",
      "metadata": {
        "colab_type": "code",
        "id": "f1pn1Zl2qK77",
        "colab": {}
      },
      "source": [
        "# write your answer here\n",
        "\n",
        "\n",
        "\n"
      ],
      "execution_count": null,
      "outputs": []
    }
  ]
}