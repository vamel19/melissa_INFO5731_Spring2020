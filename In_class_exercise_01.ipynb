{
  "nbformat": 4,
  "nbformat_minor": 0,
  "metadata": {
    "colab": {
      "name": "In_class_exercise_01.ipynb",
      "provenance": [],
      "collapsed_sections": [],
      "include_colab_link": true
    },
    "kernelspec": {
      "display_name": "Python 3",
      "language": "python",
      "name": "python3"
    },
    "language_info": {
      "codemirror_mode": {
        "name": "ipython",
        "version": 3
      },
      "file_extension": ".py",
      "mimetype": "text/x-python",
      "name": "python",
      "nbconvert_exporter": "python",
      "pygments_lexer": "ipython3",
      "version": "3.7.4"
    }
  },
  "cells": [
    {
      "cell_type": "markdown",
      "metadata": {
        "id": "view-in-github",
        "colab_type": "text"
      },
      "source": [
        "<a href=\"https://colab.research.google.com/github/vamel19/melissa_INFO5731_Spring2020/blob/master/In_class_exercise_01.ipynb\" target=\"_parent\"><img src=\"https://colab.research.google.com/assets/colab-badge.svg\" alt=\"Open In Colab\"/></a>"
      ]
    },
    {
      "cell_type": "markdown",
      "metadata": {
        "colab_type": "text",
        "id": "DymRJbxDBCnf"
      },
      "source": [
        "# **The first In-class-exercise (9/2/2020, 20 points in total)**"
      ]
    },
    {
      "cell_type": "markdown",
      "metadata": {
        "colab_type": "text",
        "id": "03jb4GZsBkBS"
      },
      "source": [
        "(1) Write a Python program to calculate the length of a string. (2 points)"
      ]
    },
    {
      "cell_type": "code",
      "metadata": {
        "colab_type": "code",
        "id": "YaGLbSHHB8Ej",
        "colab": {
          "base_uri": "https://localhost:8080/",
          "height": 34
        },
        "outputId": "ffc796f4-dda0-4584-85e6-511b77b08a88"
      },
      "source": [
        "counter = 0\n",
        "for g in \"program\": # traverse the string \"program\"\n",
        "    counter+=1 #increment the counter\n",
        "print (counter) # outputs the length (7) of the string \"program\""
      ],
      "execution_count": 6,
      "outputs": [
        {
          "output_type": "stream",
          "text": [
            "7\n"
          ],
          "name": "stdout"
        }
      ]
    },
    {
      "cell_type": "markdown",
      "metadata": {
        "colab_type": "text",
        "id": "jJDe71iLB616"
      },
      "source": [
        "(2) Write a Python program to count the number of characters in a string. (2 points)\n",
        "\n",
        "Sample String : 'google.com‘, \n",
        "\n",
        "Expected Result : {'o': 3, 'g': 2, '.': 1, 'e': 1, 'l': 1, 'm': 1, 'c': 1}"
      ]
    },
    {
      "cell_type": "code",
      "metadata": {
        "colab_type": "code",
        "id": "MtKskTzbCLaU",
        "colab": {
          "base_uri": "https://localhost:8080/",
          "height": 34
        },
        "outputId": "c93c0a32-7500-414b-f828-836c83deab86"
      },
      "source": [
        "str1 = \"google.com\"\n",
        "countDict = dict()\n",
        "for char in str1:\n",
        "  count = str1.count(char)\n",
        "  countDict[char]=count\n",
        "print(countDict)"
      ],
      "execution_count": 11,
      "outputs": [
        {
          "output_type": "stream",
          "text": [
            "{'g': 2, 'o': 3, 'l': 1, 'e': 1, '.': 1, 'c': 1, 'm': 1}\n"
          ],
          "name": "stdout"
        }
      ]
    },
    {
      "cell_type": "markdown",
      "metadata": {
        "colab_type": "text",
        "id": "55W9AMdXCSpV"
      },
      "source": [
        "\n",
        "\n",
        "```\n",
        "# This is formatted as code\n",
        "```\n",
        "\n",
        "(3) Write a Python program to sum all the items in a list. (2 points)"
      ]
    },
    {
      "cell_type": "code",
      "metadata": {
        "colab_type": "code",
        "id": "I57NXsauCec2",
        "colab": {
          "base_uri": "https://localhost:8080/",
          "height": 34
        },
        "outputId": "635b7204-00a9-4e79-acb5-9fb5635b0013"
      },
      "source": [
        "def sum_list(items):\n",
        "  sum_numbers = 0\n",
        "  for x in items:\n",
        "      sum_numbers += x\n",
        "  return sum_numbers\n",
        "print(sum_list([1,4,-9]))"
      ],
      "execution_count": 20,
      "outputs": [
        {
          "output_type": "stream",
          "text": [
            "-4\n"
          ],
          "name": "stdout"
        }
      ]
    },
    {
      "cell_type": "markdown",
      "metadata": {
        "colab_type": "text",
        "id": "4ulBZ6yhCi9F"
      },
      "source": [
        "(4) Write a Python program to get a string from a given string where all occurrences of its first char have been changed to '\\$', except the first char itself. (2 points)\n",
        "\n",
        "Sample String : 'restart‘, \n",
        "\n",
        "Expected Result : 'resta\\$t'"
      ]
    },
    {
      "cell_type": "code",
      "metadata": {
        "colab_type": "code",
        "id": "Fj0XhwbBCw2o",
        "colab": {
          "base_uri": "https://localhost:8080/",
          "height": 34
        },
        "outputId": "d51c36ea-16d1-4cff-9ae1-410c18f756dd"
      },
      "source": [
        "def change_char(str1):\n",
        "  char = str1[0]\n",
        "  length = len(str1)\n",
        "  str1 = str1.replace(char, '$')\n",
        "  str1 = char + str1[1:]\n",
        "\n",
        "  return str1\n",
        "\n",
        "print(change_char('restart'))\n"
      ],
      "execution_count": 21,
      "outputs": [
        {
          "output_type": "stream",
          "text": [
            "resta$t\n"
          ],
          "name": "stdout"
        }
      ]
    },
    {
      "cell_type": "markdown",
      "metadata": {
        "colab_type": "text",
        "id": "_bIP7s1MCzue"
      },
      "source": [
        "(5) Write a program with python which could accept two parameter a and b to calculate and output the result of S, where \n",
        "\n",
        "$\\ S=3.14*(1+a/b)^3$ (3 points)\n",
        "\n"
      ]
    },
    {
      "cell_type": "code",
      "metadata": {
        "colab_type": "code",
        "id": "w79QilHXD3Mg",
        "colab": {}
      },
      "source": [
        ""
      ],
      "execution_count": null,
      "outputs": []
    },
    {
      "cell_type": "markdown",
      "metadata": {
        "colab_type": "text",
        "id": "xCa2bK9aD4Q3"
      },
      "source": [
        "(6) Write a Python program to concatenate following dictionaries to create a new one. (3 points)\n",
        "\n",
        "Sample Dictionary : dic1={1:10, 2:20}, dic2={3:30, 4:40}, dic3={5:50,6:60}, \n",
        "\n",
        "Expected Result : {1: 10, 2: 20, 3: 30, 4: 40, 5: 50, 6: 60}\n"
      ]
    },
    {
      "cell_type": "code",
      "metadata": {
        "colab_type": "code",
        "id": "_z4aLqAbEET1",
        "colab": {
          "base_uri": "https://localhost:8080/",
          "height": 34
        },
        "outputId": "d9cd9c7e-27fc-42ce-ef4e-eed6132aaa8a"
      },
      "source": [
        "dic1={1:10, 2:20}\n",
        "dic2={3:30, 4:40}\n",
        "dic3={5:50,6:60}\n",
        "dic4 = {}\n",
        "for d in (dic1, dic2, dic3): dic4.update(d)\n",
        "print(dic4)"
      ],
      "execution_count": 22,
      "outputs": [
        {
          "output_type": "stream",
          "text": [
            "{1: 10, 2: 20, 3: 30, 4: 40, 5: 50, 6: 60}\n"
          ],
          "name": "stdout"
        }
      ]
    },
    {
      "cell_type": "markdown",
      "metadata": {
        "colab_type": "text",
        "id": "0v48Vqa7FrQh"
      },
      "source": [
        "(7) Write a Python program to check whether an element exists within a tuple. (3 points)"
      ]
    },
    {
      "cell_type": "code",
      "metadata": {
        "colab_type": "code",
        "id": "7WEmgq-DF2P1",
        "colab": {
          "base_uri": "https://localhost:8080/",
          "height": 68
        },
        "outputId": "e6e994c5-b946-4ce4-aa87-b9fde15cdbfb"
      },
      "source": [
        "#create a tuple\n",
        "tuplex = (\"w\", 3, 6, 9, \"u\", \"o\", \"s\", \"e\", \"r\", \"r\", \"c\", \"o\")\n",
        "print(tuplex)\n",
        "(\"w\", 3, 6, 9, \"u\", \"o\", \"s\", \"e\", \"r\", \"r\", \"c\", \"o\")\n",
        "#use in statement\n",
        "print(\"r\" in tuplex)\n",
        "print(5 in tuplex)"
      ],
      "execution_count": 27,
      "outputs": [
        {
          "output_type": "stream",
          "text": [
            "('w', 3, 6, 9, 'u', 'o', 's', 'e', 'r', 'r', 'c', 'o')\n",
            "True\n",
            "False\n"
          ],
          "name": "stdout"
        }
      ]
    },
    {
      "cell_type": "markdown",
      "metadata": {
        "colab_type": "text",
        "id": "vD5PYLMuGga_"
      },
      "source": [
        "(8) Write a Python program to find maximum and the minimum value in a set. (3 points)"
      ]
    },
    {
      "cell_type": "code",
      "metadata": {
        "colab_type": "code",
        "id": "t0D5kdJUGjjw",
        "colab": {
          "base_uri": "https://localhost:8080/",
          "height": 51
        },
        "outputId": "e13cd0f5-9ce0-491b-983d-bcfad681ce18"
      },
      "source": [
        "#Create a set\n",
        "seta = set([4, 19, 83, 5, 18, 53, 100])\n",
        "#Find maximum value\n",
        "print(max(seta))\n",
        "#Find minimum value\n",
        "print(min(seta))"
      ],
      "execution_count": 29,
      "outputs": [
        {
          "output_type": "stream",
          "text": [
            "100\n",
            "4\n"
          ],
          "name": "stdout"
        }
      ]
    },
    {
      "cell_type": "markdown",
      "metadata": {
        "colab_type": "text",
        "id": "uHkd-y5VhVWC"
      },
      "source": [
        "(9) Write a Python program to randomly divide the students in this class into five groups for term projects, each group should have at least 3 students but no more than 5 students (including 5). Here is the students list: (3 points for extra)\n",
        "\n",
        "studnet_list = ['vmb0067','pc0353','snd0097','yye0005','sg0940','bk0301','rak0120','rrk0058','spk0057','vl0135','nm0547','pn0159',\n",
        "                'msp0174','dd0420','ds0761','rs0850','ss1995','at0739','at0768','mv0299','tv0119','dy0091']"
      ]
    },
    {
      "cell_type": "code",
      "metadata": {
        "colab_type": "code",
        "id": "3iGbmcOBhTwy",
        "colab": {
          "base_uri": "https://localhost:8080/",
          "height": 476
        },
        "outputId": "c381b3cb-c046-46d7-d63c-2250cf3247c9"
      },
      "source": [
        "import random\n",
        "members = 5\n",
        "participants=[\"vmb0067\",\"pc0353\",\"snd0097\",\"yye0005\",\"sg0940\",\"bk0301\",\"rak0120\",\"rrk0058\",\"spk0057\",\"vl0135\",\"nm0547\",\"pn0159\", \"msp0174\",\"dd0420\",\"ds0761\",\"rs0850\",\"ss1995\",\"at0739\",\"at0768\",\"mv0299\",\"tv0119\",\"dy0091\"]\n",
        "random.shuffle(participants)\n",
        "for i in range (len(participants) // members + 1):\n",
        "  print('Group {} consists of:'. format(i + 1))\n",
        "  group = participants[i*members:i*members + members]\n",
        "  for participant in group:\n",
        "    print(participant)"
      ],
      "execution_count": 52,
      "outputs": [
        {
          "output_type": "stream",
          "text": [
            "Group 1 consists of:\n",
            "snd0097\n",
            "at0768\n",
            "yye0005\n",
            "dd0420\n",
            "msp0174\n",
            "Group 2 consists of:\n",
            "pc0353\n",
            "rrk0058\n",
            "dy0091\n",
            "rak0120\n",
            "sg0940\n",
            "Group 3 consists of:\n",
            "tv0119\n",
            "ds0761\n",
            "bk0301\n",
            "vmb0067\n",
            "ss1995\n",
            "Group 4 consists of:\n",
            "nm0547\n",
            "vl0135\n",
            "rs0850\n",
            "at0739\n",
            "mv0299\n",
            "Group 5 consists of:\n",
            "spk0057\n",
            "pn0159\n"
          ],
          "name": "stdout"
        }
      ]
    }
  ]
}